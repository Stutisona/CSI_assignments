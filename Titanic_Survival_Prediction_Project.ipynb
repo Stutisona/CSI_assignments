{
 "cells": [
  {
   "cell_type": "markdown",
   "id": "cbe54b2b",
   "metadata": {},
   "source": [
    "# 🚢 Titanic Survival Prediction Project\n",
    "Predict survival on the Titanic using Python, Pandas, and Logistic Regression.\n",
    "Dataset Source: [Kaggle Titanic Dataset](https://www.kaggle.com/competitions/titanic/data)"
   ]
  },
  {
   "cell_type": "code",
   "execution_count": null,
   "id": "97e52e6a",
   "metadata": {},
   "outputs": [],
   "source": [
    "import pandas as pd\n",
    "import numpy as np\n",
    "import matplotlib.pyplot as plt\n",
    "import seaborn as sns\n",
    "from sklearn.model_selection import train_test_split\n",
    "from sklearn.linear_model import LogisticRegression\n",
    "from sklearn.metrics import accuracy_score, confusion_matrix, classification_report\n",
    "\n",
    "# Load dataset\n",
    "df = pd.read_csv('train.csv')\n",
    "df.head()"
   ]
  },
  {
   "cell_type": "markdown",
   "id": "9022a36c",
   "metadata": {},
   "source": [
    "## 🔍 Step 1: Understand the Data"
   ]
  },
  {
   "cell_type": "code",
   "execution_count": null,
   "id": "cb0df2fb",
   "metadata": {},
   "outputs": [],
   "source": [
    "df.info()\n",
    "df.describe()\n",
    "df.isnull().sum()"
   ]
  },
  {
   "cell_type": "markdown",
   "id": "b82a95d3",
   "metadata": {},
   "source": [
    "## 🧹 Step 2: Clean the Data"
   ]
  },
  {
   "cell_type": "code",
   "execution_count": null,
   "id": "cb4f335d",
   "metadata": {},
   "outputs": [],
   "source": [
    "# Fill missing Age values with median\n",
    "df['Age'].fillna(df['Age'].median(), inplace=True)\n",
    "\n",
    "# Fill missing Embarked values with mode\n",
    "df['Embarked'].fillna(df['Embarked'].mode()[0], inplace=True)\n",
    "\n",
    "# Drop Cabin column due to too many missing values\n",
    "df.drop(columns=['Cabin'], inplace=True)\n",
    "\n",
    "# Drop irrelevant columns\n",
    "df.drop(columns=['PassengerId', 'Name', 'Ticket'], inplace=True)\n",
    "\n",
    "# Confirm no missing values\n",
    "df.isnull().sum()"
   ]
  },
  {
   "cell_type": "markdown",
   "id": "6277e76c",
   "metadata": {},
   "source": [
    "## 📊 Step 3: Exploratory Data Analysis (EDA)"
   ]
  },
  {
   "cell_type": "code",
   "execution_count": null,
   "id": "4f7d2059",
   "metadata": {},
   "outputs": [],
   "source": [
    "# Survival Count\n",
    "sns.countplot(x='Survived', data=df)\n",
    "plt.title('Survival Count')\n",
    "plt.show()\n",
    "\n",
    "# Survival by Sex\n",
    "sns.countplot(x='Survived', hue='Sex', data=df)\n",
    "plt.title('Survival by Sex')\n",
    "plt.show()\n",
    "\n",
    "# Survival by Pclass\n",
    "sns.countplot(x='Survived', hue='Pclass', data=df)\n",
    "plt.title('Survival by Passenger Class')\n",
    "plt.show()"
   ]
  },
  {
   "cell_type": "markdown",
   "id": "38947715",
   "metadata": {},
   "source": [
    "## 🛠️ Step 4: Feature Engineering"
   ]
  },
  {
   "cell_type": "code",
   "execution_count": null,
   "id": "8e8a69bc",
   "metadata": {},
   "outputs": [],
   "source": [
    "# Convert categorical to numerical\n",
    "df['Sex'] = df['Sex'].map({'male': 0, 'female': 1})\n",
    "df['Embarked'] = df['Embarked'].map({'S': 0, 'C': 1, 'Q': 2})\n",
    "\n",
    "# Define features and label\n",
    "X = df.drop('Survived', axis=1)\n",
    "y = df['Survived']"
   ]
  },
  {
   "cell_type": "markdown",
   "id": "6652701c",
   "metadata": {},
   "source": [
    "## 🤖 Step 5: Model Building"
   ]
  },
  {
   "cell_type": "code",
   "execution_count": null,
   "id": "8cd136c1",
   "metadata": {},
   "outputs": [],
   "source": [
    "# Split data\n",
    "X_train, X_test, y_train, y_test = train_test_split(X, y, test_size=0.2, random_state=42)\n",
    "\n",
    "# Train Logistic Regression\n",
    "model = LogisticRegression(max_iter=200)\n",
    "model.fit(X_train, y_train)\n",
    "\n",
    "# Predict\n",
    "y_pred = model.predict(X_test)\n",
    "\n",
    "# Evaluation\n",
    "print('Accuracy:', accuracy_score(y_test, y_pred))\n",
    "print('\\nConfusion Matrix:\\n', confusion_matrix(y_test, y_pred))\n",
    "print('\\nClassification Report:\\n', classification_report(y_test, y_pred))"
   ]
  },
  {
   "cell_type": "markdown",
   "id": "32f52645",
   "metadata": {},
   "source": [
    "## ✅ Conclusion\n",
    "- You built a full ML pipeline using the Titanic dataset\n",
    "- Performed data cleaning, visualization, and logistic regression\n",
    "- Achieved basic classification with accuracy, confusion matrix and report\n",
    "\n",
    "Try improving this by testing other models or adding more features like title extraction from names."
   ]
  }
 ],
 "metadata": {},
 "nbformat": 4,
 "nbformat_minor": 5
}